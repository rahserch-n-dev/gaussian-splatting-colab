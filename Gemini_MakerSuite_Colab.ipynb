{
 "cells": [
  {
   "cell_type": "markdown",
   "id": "6705a294",
   "metadata": {},
   "source": [
    "# Gemini API Setup (MakerSuite Version)\n",
    "This notebook uses the latest Gemini Pro API with a valid API key from [MakerSuite](https://makersuite.google.com/app/apikey)."
   ]
  },
  {
   "cell_type": "code",
   "execution_count": null,
   "id": "f5e38c9e",
   "metadata": {},
   "outputs": [],
   "source": [
    "# Step 1: Install the latest Gemini SDK\n",
    "!pip install --upgrade --no-cache-dir google-generativeai\n"
   ]
  },
  {
   "cell_type": "markdown",
   "id": "79947c49",
   "metadata": {},
   "source": [
    "**Important:** After running the cell above, go to `Runtime > Restart runtime` and then continue below."
   ]
  },
  {
   "cell_type": "code",
   "execution_count": null,
   "id": "cb2a542d",
   "metadata": {},
   "outputs": [],
   "source": [
    "# Step 2: Configure Gemini with your MakerSuite API key\n",
    "import google.generativeai as genai\n",
    "\n",
    "# Replace with your real API key from https://makersuite.google.com/app/apikey\n",
    "genai.configure(api_key=\"PASTE_YOUR_MAKERSUITE_API_KEY_HERE\")\n"
   ]
  },
  {
   "cell_type": "code",
   "execution_count": null,
   "id": "dae3ba9c",
   "metadata": {},
   "outputs": [],
   "source": [
    "# Step 3: List available models to confirm access\n",
    "models = genai.list_models()\n",
    "for m in models:\n",
    "    print(m.name, m.supported_generation_methods)\n"
   ]
  },
  {
   "cell_type": "code",
   "execution_count": null,
   "id": "578f6149",
   "metadata": {},
   "outputs": [],
   "source": [
    "# Step 4: Use Gemini Pro to generate content\n",
    "model = genai.GenerativeModel(\"models/gemini-pro\")\n",
    "\n",
    "response = model.generate_content(\"Explain Gaussian Splatting like I'm 5.\")\n",
    "print(response.text)\n"
   ]
  }
 ],
 "metadata": {},
 "nbformat": 4,
 "nbformat_minor": 5
}
