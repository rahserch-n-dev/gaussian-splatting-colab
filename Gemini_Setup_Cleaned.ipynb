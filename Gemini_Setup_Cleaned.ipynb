{
 "cells": [
  {
   "cell_type": "markdown",
   "id": "c100ab60",
   "metadata": {},
   "source": [
    "# Gemini API Setup on Colab\n",
    "This notebook sets up the Google Gemini API using `google-generativeai` and runs a quick test query."
   ]
  },
  {
   "cell_type": "code",
   "execution_count": null,
   "id": "f07bab60",
   "metadata": {},
   "outputs": [],
   "source": [
    "\n",
    "# Step 1: Install Gemini SDK\n",
    "!pip install -q google-generativeai\n"
   ]
  },
  {
   "cell_type": "code",
   "execution_count": null,
   "id": "9aaffca0",
   "metadata": {},
   "outputs": [],
   "source": [
    "\n",
    "# Step 2: Import and configure Gemini API\n",
    "import google.generativeai as genai\n",
    "\n",
    "# Replace this with your actual API key from https://makersuite.google.com/app/apikey\n",
    "API_KEY = \"YOUR_API_KEY_HERE\"\n",
    "genai.configure(api_key=API_KEY)\n"
   ]
  },
  {
   "cell_type": "code",
   "execution_count": null,
   "id": "b0d88997",
   "metadata": {},
   "outputs": [],
   "source": [
    "\n",
    "# Step 3: Load the Gemini Pro model\n",
    "model = genai.GenerativeModel('gemini-pro')\n"
   ]
  },
  {
   "cell_type": "code",
   "execution_count": null,
   "id": "a807bf24",
   "metadata": {},
   "outputs": [],
   "source": [
    "\n",
    "# Step 4: Run a test query\n",
    "response = model.generate_content(\"Summarize the plot of Inception in one sentence.\")\n",
    "print(response.text)\n"
   ]
  }
 ],
 "metadata": {
  "colab": {
   "authorship_tag": "ABX9TyP3Q+6aq961Ku0CTu6oSQjB",
   "mount_file_id": "1SK3VnGH9dtFVfRYtVwP9FXygvfOhZDTw",
   "provenance": []
  },
  "kernelspec": {
   "display_name": "Python 3",
   "name": "python3"
  },
  "language_info": {
   "name": "python"
  }
 },
 "nbformat": 4,
 "nbformat_minor": 0
}
