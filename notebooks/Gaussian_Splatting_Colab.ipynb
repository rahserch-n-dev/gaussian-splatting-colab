{
 "cells": [
  {
   "cell_type": "markdown",
   "id": "1df57a90",
   "metadata": {},
   "source": [
    "# Gaussian Splatting (Colab A100)\n",
    "This notebook demonstrates the full Gaussian Splatting pipeline using Google Colab with an A100 GPU."
   ]
  },
  {
   "cell_type": "code",
   "execution_count": null,
   "id": "1c7f8d31",
   "metadata": {},
   "outputs": [],
   "source": [
    "# 1. Install dependencies\n",
    "!nvidia-smi\n",
    "!apt update\n",
    "!apt install colmap -y\n",
    "!pip install torch torchvision torchaudio --extra-index-url https://download.pytorch.org/whl/cu121"
   ]
  },
  {
   "cell_type": "code",
   "execution_count": null,
   "id": "0461b73b",
   "metadata": {},
   "outputs": [],
   "source": [
    "# 2. Clone Gaussian Splatting repository and navigate into it\n",
    "!git clone https://github.com/graphdeco-inria/gaussian-splatting.git\n",
    "%cd gaussian-splatting"
   ]
  },
  {
   "cell_type": "code",
   "execution_count": null,
   "id": "d74b1712",
   "metadata": {},
   "outputs": [],
   "source": [
    "# 3. Upload your images from local\n",
    "from google.colab import files\n",
    "uploaded = files.upload()"
   ]
  },
  {
   "cell_type": "code",
   "execution_count": null,
   "id": "1ecbf855",
   "metadata": {},
   "outputs": [],
   "source": [
    "# Move uploaded images into the scene directory\n",
    "import os, shutil\n",
    "os.makedirs('scenes/myscene/images', exist_ok=True)\n",
    "for filename in uploaded.keys():\n",
    "    shutil.move(filename, f\"scenes/myscene/images/{filename}\")"
   ]
  },
  {
   "cell_type": "code",
   "execution_count": null,
   "id": "beca44c7",
   "metadata": {},
   "outputs": [],
   "source": [
    "# 4. Run COLMAP reconstruction\n",
    "!python scripts/run_colmap.py --input_path scenes/myscene/images --output_path scenes/myscene --aabb_scale 16"
   ]
  },
  {
   "cell_type": "code",
   "execution_count": null,
   "id": "231aad0b",
   "metadata": {},
   "outputs": [],
   "source": [
    "# 5. Convert COLMAP output for Gaussian Splatting\n",
    "!python scripts/convert_colmap.py --input_path scenes/myscene"
   ]
  },
  {
   "cell_type": "code",
   "execution_count": null,
   "id": "604b666e",
   "metadata": {},
   "outputs": [],
   "source": [
    "# 6. Train the Gaussian Splatting model\n",
    "!python train.py -s scenes/myscene --pipeline gaussian --iterations 30000\n",
    "\n",
    "# 7. (Optional) Render the output\n",
    "# !python render.py -s scenes/myscene --pipeline gaussian"
   ]
  }
 ],
 "metadata": {
  "language_info": {
   "name": "python"
  }
 },
 "nbformat": 4,
 "nbformat_minor": 5
}
